{
 "cells": [
  {
   "cell_type": "markdown",
   "id": "bbbcba75-65d8-4fbb-9ecf-35cf8a737b80",
   "metadata": {},
   "source": [
    "### Finding the Zero of a Function"
   ]
  },
  {
   "cell_type": "markdown",
   "id": "de490f3d-71c4-4f33-85c7-400431c01b2b",
   "metadata": {},
   "source": [
    "To achieve this goal, you will have to complete 2 steps:\n",
    "1. Create a matlab function that finds the zero of a special function, called transfnc (a transcendental function of our making);\n",
    "2. Use the fzero function from the standard matlab/octave library to find the zero of the function."
   ]
  },
  {
   "cell_type": "markdown",
   "id": "98a1a1ab-ac9f-46cc-af92-4996d0ab3b51",
   "metadata": {},
   "source": [
    "## Step 1: Creating the function\n",
    "\n",
    "The transcendental function *transfnc* has the following interface:\n",
    "Arguments:\n",
    "The function takes 3 variables as input (x, n, k).\n",
    "* x: scalar or vector of real values\n",
    "* n: the linear parameter\n",
    "* k: the exponential parameter\n",
    "\n",
    "Outputs:\n",
    "The function returns 1 real vector variable y of real values. The length of y corresponds to the length of x.\n",
    "\n",
    "The function definition is as follows:\n",
    "\n",
    "$y = n tan^{-1}(x) - e^{kx}$"
   ]
  },
  {
   "cell_type": "markdown",
   "id": "8b80bc36-cc9b-4fa8-909a-fbc4f280340c",
   "metadata": {},
   "source": [
    "Remember that in matlab/octave, a function is defined by:\n",
    "\n",
    "`function [outputs] = function_name (args)`\n",
    "\n",
    "`end`\n",
    "\n",
    "where \n",
    "* *function_name* is a unique name that you choose. \n",
    "* *args* is a list of input variables (none, 1 or more)\n",
    "* *outputs* is a list of output variables (none, 1 or more)"
   ]
  },
  {
   "cell_type": "code",
   "execution_count": 44,
   "id": "56f04d42-9c50-41c8-ad8e-5fc4f2128fae",
   "metadata": {},
   "outputs": [],
   "source": [
    "function [y] = transfnc(x,n,k)\n",
    "   ...define function here...\n",
    "end"
   ]
  },
  {
   "cell_type": "markdown",
   "id": "9379f217-3873-4eeb-a249-a0f88a02455e",
   "metadata": {},
   "source": [
    "##Step 2: Using fzero\n",
    "\n",
    "The fzero function is in the standard matlab/octave library and it is used as follows\n",
    "\n",
    "`fzero(@fnc_name, [starting guess])`\n",
    "\n",
    "The argument `@fnc_name` is called a **function handle**. It works by passing to the function a pointer to the function itself. You can think of it like telling fzero to use the function named `fnc_name(args)` in its internal code. Function handles is one way, in matlab/octave, to pass something else than a variable.\n",
    "\n",
    "There's one problem though. If the function @fnc_name(args) had exactly 1 argument, it would be simple for fzero to know what to do. Simply change the value of that single argument until it returns a 0 value (or close enough). However, our function has **3 arguments or input variables: x, n, and k**. The code behind fzero can't tell which of the 3 variables to change. Therefore, we have to \"tell\" fzero what the interface of the function is. Actually, we only have to tell fzero which of the 3 variables to change and what values to put in the other variables. We do this by adding information between the @ sign and the function name. In our case, we could write:\n",
    "\n",
    "`@(x) fnc_name(x,a1,a2)`\n",
    "\n",
    "This tells fzero to change the variable called *x* (the name *x* is arbitrary and it doesn't have to match the name of the variable inside the function definition) and pass the values of the variables *a1* and *a2* for *n* and *k* respectively. We call *x* a **dummy variable**."
   ]
  },
  {
   "cell_type": "markdown",
   "id": "1099bf70-07fe-49cd-91b2-a256c3e7dfd7",
   "metadata": {},
   "source": [
    "To test your function, you can use $n=5$, $k=0.2$ and you should have a root at roughly 0.2117. What happens if you use a different starting guess? What about other values of $n,k$? What if you try $n=1.9$,$k=0.4$? Does the initial guess influence the answer you get? Why?"
   ]
  },
  {
   "cell_type": "code",
   "execution_count": null,
   "id": "04c50a46-3653-4b3d-ac93-9731b43f0c37",
   "metadata": {},
   "outputs": [],
   "source": [
    "...create zero finding routine here..."
   ]
  }
 ],
 "metadata": {
  "kernelspec": {
   "display_name": "Octave",
   "language": "octave",
   "name": "octave"
  },
  "language_info": {
   "file_extension": ".m",
   "help_links": [
    {
     "text": "GNU Octave",
     "url": "https://www.gnu.org/software/octave/support.html"
    },
    {
     "text": "Octave Kernel",
     "url": "https://github.com/Calysto/octave_kernel"
    },
    {
     "text": "MetaKernel Magics",
     "url": "https://metakernel.readthedocs.io/en/latest/source/README.html"
    }
   ],
   "mimetype": "text/x-octave",
   "name": "octave",
   "version": "8.2.0"
  }
 },
 "nbformat": 4,
 "nbformat_minor": 5
}
