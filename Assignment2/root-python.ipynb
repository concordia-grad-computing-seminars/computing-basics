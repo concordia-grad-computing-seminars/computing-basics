{
 "cells": [
  {
   "cell_type": "markdown",
   "id": "bbbcba75-65d8-4fbb-9ecf-35cf8a737b80",
   "metadata": {},
   "source": [
    "### Finding the Zero of a Function"
   ]
  },
  {
   "cell_type": "markdown",
   "id": "de490f3d-71c4-4f33-85c7-400431c01b2b",
   "metadata": {},
   "source": [
    "To achieve this goal, you will have to complete 2 steps:\n",
    "1. Create a matlab function that finds the zero of a special function, called transfnc (a transcendental function of our making);\n",
    "2. Use a function within a python module (hint: scipy is really useful for science/engineering stuff) to find the zero."
   ]
  },
  {
   "cell_type": "markdown",
   "id": "98a1a1ab-ac9f-46cc-af92-4996d0ab3b51",
   "metadata": {},
   "source": [
    "## Step 1: Creating the function\n",
    "\n",
    "The transcendental function *transfnc* has the following interface:\n",
    "Arguments:\n",
    "The function takes 3 variables as input (x, n, k).\n",
    "* x: scalar or vector of real values\n",
    "* n: the linear parameter\n",
    "* k: the exponential parameter\n",
    "\n",
    "Outputs:\n",
    "The function returns 1 real vector variable y of real values. The length of y corresponds to the length of x.\n",
    "\n",
    "The function definition is as follows:\n",
    "\n",
    "$y = n tan^{-1}(x) - e^{kx}$"
   ]
  },
  {
   "cell_type": "markdown",
   "id": "8b80bc36-cc9b-4fa8-909a-fbc4f280340c",
   "metadata": {},
   "source": [
    "Remember that in python, a function is defined by:\n",
    "\n",
    "`def function_name(args):`\n",
    "\n",
    "`    indent to be inside the function`\n",
    "\n",
    "`    return outputs`\n",
    "\n",
    "where \n",
    "* *function_name* is a unique name that you choose. \n",
    "* *args* is a list of input variables (none, 1 or more)\n",
    "* *outputs* is a list of output variables (none, 1 or more)"
   ]
  },
  {
   "cell_type": "code",
   "execution_count": 22,
   "id": "56f04d42-9c50-41c8-ad8e-5fc4f2128fae",
   "metadata": {},
   "outputs": [],
   "source": [
    "import numpy as np\n",
    "def transfnc(x,n,k):\n",
    "    ...calculate...\n",
    "    ...return..."
   ]
  },
  {
   "cell_type": "markdown",
   "id": "9379f217-3873-4eeb-a249-a0f88a02455e",
   "metadata": {},
   "source": [
    "## Step 2: Using [REDACTED].[REDACTED FUNCTION NAME]\n",
    "\n",
    "[REDACTED] requires at least 2 arguments:\n",
    "* a function of a single variable\n",
    "* an initial guess\n",
    "\n",
    "Our function has 3 arguments (x,n,k), so we are going to wrap it so that it only has a single argument. We will use an inline function definition:\n",
    "\n",
    "`fun = lambda x: transfnc(x,n,k)`\n",
    "\n",
    "* Our new function will be called fun(x)\n",
    "* lambda x, among other stuff, says x is the single argument\n",
    "* fun calls transfnc with the value of x it gets and pulls n and k for the other two.\n",
    "* The values of n and k are pulled from the **current** values of n and k. That means the variables n and k **must exist** and if they are updated, the function fun pulls the new value!"
   ]
  },
  {
   "cell_type": "markdown",
   "id": "1099bf70-07fe-49cd-91b2-a256c3e7dfd7",
   "metadata": {},
   "source": [
    "To test your function, you can use $n=5$, $k=0.2$ and you should have a root at roughly 0.2117. What happens if you use a different starting guess? What about other values of $n,k$? What if you try $n=1.9$,$k=0.4$? Does the initial guess influence the answer you get? Why?"
   ]
  },
  {
   "cell_type": "code",
   "execution_count": 59,
   "id": "c8a81689-2349-4f94-bdef-c1009a008e51",
   "metadata": {},
   "outputs": [],
   "source": [
    "n = 5\n",
    "k = 0.2\n",
    "fun = lambda x: transfnc(x,n,k)"
   ]
  },
  {
   "cell_type": "code",
   "execution_count": null,
   "id": "161a5050-3825-4611-b377-86070e762944",
   "metadata": {},
   "outputs": [],
   "source": []
  }
 ],
 "metadata": {
  "kernelspec": {
   "display_name": "SciKit Learn",
   "language": "python",
   "name": "scikit"
  },
  "language_info": {
   "codemirror_mode": {
    "name": "ipython",
    "version": 3
   },
   "file_extension": ".py",
   "mimetype": "text/x-python",
   "name": "python",
   "nbconvert_exporter": "python",
   "pygments_lexer": "ipython3",
   "version": "3.10.8"
  }
 },
 "nbformat": 4,
 "nbformat_minor": 5
}
