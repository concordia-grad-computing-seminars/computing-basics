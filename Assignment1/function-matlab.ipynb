{
 "cells": [
  {
   "cell_type": "markdown",
   "id": "bbbcba75-65d8-4fbb-9ecf-35cf8a737b80",
   "metadata": {},
   "source": [
    "### Writing a function"
   ]
  },
  {
   "cell_type": "markdown",
   "id": "de490f3d-71c4-4f33-85c7-400431c01b2b",
   "metadata": {},
   "source": [
    "From the outside, a function is interacted with according to its interface:\n",
    "* which arguments does it take, i.e. what variables/variable types have to be given TO the function to have it function?\n",
    "* which values does it return, i.e. what values/types does the function return?\n",
    "\n",
    "The function is fully defined once it respects the interface AND it's behaviour is specified, i.e. it actually does something."
   ]
  },
  {
   "cell_type": "markdown",
   "id": "98a1a1ab-ac9f-46cc-af92-4996d0ab3b51",
   "metadata": {},
   "source": [
    "In this first assignment, you should create a function that has the following interface and definition:\n",
    "\n",
    "Arguments:\n",
    "The function takes 2 variables as input (x, pow).\n",
    "* x: scalar or vector of real values\n",
    "* pow: a scalar, real value\n",
    "Outputs:\n",
    "The function returns 1 real vector variable y of real values. The length of y corresponds to the length of x.\n",
    "\n",
    "The function definition is as follows:\n",
    "* if      $x <=0, y(x) = x^{pow}$\n",
    "* if $0 <  x <=1, y(x) = x$\n",
    "* if $1 <  x    , y(x) = e^{(x^{pow} - 1)}$"
   ]
  },
  {
   "cell_type": "markdown",
   "id": "8b80bc36-cc9b-4fa8-909a-fbc4f280340c",
   "metadata": {},
   "source": [
    "Remember that in matlab/octave, a function is defined by:\n",
    "\n",
    "`function [outputs] = function_name (args)`\n",
    "\n",
    "`end`\n",
    "\n",
    "where \n",
    "* *function_name* is a unique name that you choose. \n",
    "* *args* is a list of input variables (none, 1 or more)\n",
    "* *outputs* is a list of output variables (none, 1 or more)"
   ]
  },
  {
   "cell_type": "markdown",
   "id": "5606f64f-69e4-4f32-8d60-32d1edd497ff",
   "metadata": {},
   "source": [
    "Your results should be\n",
    "* x=-0.5 -> 0.25\n",
    "* x= 0.5 -> 0.5\n",
    "* x=1.5 -> 3.4903"
   ]
  },
  {
   "cell_type": "code",
   "execution_count": 10,
   "id": "56f04d42-9c50-41c8-ad8e-5fc4f2128fae",
   "metadata": {},
   "outputs": [],
   "source": [
    "...define function here..."
   ]
  },
  {
   "cell_type": "code",
   "execution_count": null,
   "id": "cce32eb2-08f1-4582-ac24-e3cbede28575",
   "metadata": {},
   "outputs": [],
   "source": [
    "...test function here..."
   ]
  },
  {
   "cell_type": "code",
   "execution_count": null,
   "id": "2c55d25d-5fdc-4192-a76d-9fbb322ff76e",
   "metadata": {},
   "outputs": [],
   "source": []
  }
 ],
 "metadata": {
  "kernelspec": {
   "display_name": "Octave",
   "language": "octave",
   "name": "octave"
  },
  "language_info": {
   "file_extension": ".m",
   "help_links": [
    {
     "text": "GNU Octave",
     "url": "https://www.gnu.org/software/octave/support.html"
    },
    {
     "text": "Octave Kernel",
     "url": "https://github.com/Calysto/octave_kernel"
    },
    {
     "text": "MetaKernel Magics",
     "url": "https://metakernel.readthedocs.io/en/latest/source/README.html"
    }
   ],
   "mimetype": "text/x-octave",
   "name": "octave",
   "version": "8.2.0"
  }
 },
 "nbformat": 4,
 "nbformat_minor": 5
}
