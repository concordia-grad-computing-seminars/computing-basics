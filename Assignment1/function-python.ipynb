{
 "cells": [
  {
   "cell_type": "markdown",
   "id": "bbbcba75-65d8-4fbb-9ecf-35cf8a737b80",
   "metadata": {},
   "source": [
    "### Writing a function"
   ]
  },
  {
   "cell_type": "markdown",
   "id": "de490f3d-71c4-4f33-85c7-400431c01b2b",
   "metadata": {},
   "source": [
    "From the outside, a function is interacted with according to its interface:\n",
    "* which arguments does it take, i.e. what variables/variable types have to be given TO the function to have it function?\n",
    "* which values does it return, i.e. what values/types does the function return?\n",
    "\n",
    "The function is fully defined once it respects the interface AND it's behaviour is specified, i.e. it actually does something."
   ]
  },
  {
   "cell_type": "markdown",
   "id": "98a1a1ab-ac9f-46cc-af92-4996d0ab3b51",
   "metadata": {},
   "source": [
    "In this first assignment, you should create a function that has the following interface and definition:\n",
    "\n",
    "Arguments:\n",
    "The function takes 2 variables as input (x, pow).\n",
    "* x: scalar or vector of real values\n",
    "* pow: a scalar, real value\n",
    "Outputs:\n",
    "The function returns 1 real vector variable y of real values. The length of y corresponds to the length of x.\n",
    "\n",
    "The function definition is as follows:\n",
    "* if      $x <=0, y(x) = x^{pow}$\n",
    "* if $0 <  x <=1, y(x) = x$\n",
    "* if $1 <  x    , y(x) = e^{(x^{pow} - 1)}$"
   ]
  },
  {
   "cell_type": "markdown",
   "id": "8b80bc36-cc9b-4fa8-909a-fbc4f280340c",
   "metadata": {},
   "source": [
    "Remember that in python, a function is defined by:\n",
    "\n",
    "`def function_name(args):`\n",
    "\n",
    "`    indent to be inside the function`\n",
    "\n",
    "`    return outputs`\n",
    "\n",
    "where \n",
    "* *function_name* is a unique name that you choose. \n",
    "* *args* is a list of input variables (none, 1 or more)\n",
    "* *outputs* is a list of output variables (none, 1 or more)"
   ]
  },
  {
   "cell_type": "markdown",
   "id": "5606f64f-69e4-4f32-8d60-32d1edd497ff",
   "metadata": {},
   "source": [
    "Your results should be\n",
    "* x=-0.5 -> 0.25\n",
    "* x= 0.5 -> 0.5\n",
    "* x=1.5 -> 3.4903"
   ]
  },
  {
   "cell_type": "code",
   "execution_count": 4,
   "id": "c29e8d8f-8697-4998-a4a1-a831885264d1",
   "metadata": {},
   "outputs": [],
   "source": [
    "import numpy as np"
   ]
  },
  {
   "cell_type": "code",
   "execution_count": 25,
   "id": "56f04d42-9c50-41c8-ad8e-5fc4f2128fae",
   "metadata": {},
   "outputs": [],
   "source": [
    "...define function here..."
   ]
  },
  {
   "cell_type": "code",
   "execution_count": 26,
   "id": "cce32eb2-08f1-4582-ac24-e3cbede28575",
   "metadata": {},
   "outputs": [],
   "source": [
    "x = np.array([-0.5,0.5,1.5])"
   ]
  },
  {
   "cell_type": "code",
   "execution_count": 29,
   "id": "37b41f1b-dd6e-4d34-a353-3256541973f7",
   "metadata": {},
   "outputs": [
    {
     "ename": "SyntaxError",
     "evalue": "invalid syntax (4079721562.py, line 1)",
     "output_type": "error",
     "traceback": [
      "\u001b[0;36m  Cell \u001b[0;32mIn [29], line 1\u001b[0;36m\u001b[0m\n\u001b[0;31m    ...test function here...\u001b[0m\n\u001b[0m       ^\u001b[0m\n\u001b[0;31mSyntaxError\u001b[0m\u001b[0;31m:\u001b[0m invalid syntax\n"
     ]
    }
   ],
   "source": [
    "...test function here..."
   ]
  },
  {
   "cell_type": "code",
   "execution_count": null,
   "id": "bbe77b9b-a96c-48df-bf93-41e947af7849",
   "metadata": {},
   "outputs": [],
   "source": []
  }
 ],
 "metadata": {
  "kernelspec": {
   "display_name": "SciKit Learn",
   "language": "python",
   "name": "scikit"
  },
  "language_info": {
   "codemirror_mode": {
    "name": "ipython",
    "version": 3
   },
   "file_extension": ".py",
   "mimetype": "text/x-python",
   "name": "python",
   "nbconvert_exporter": "python",
   "pygments_lexer": "ipython3",
   "version": "3.10.8"
  }
 },
 "nbformat": 4,
 "nbformat_minor": 5
}
